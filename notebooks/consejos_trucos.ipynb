{
 "cells": [
  {
   "cell_type": "code",
   "execution_count": 1,
   "id": "macro-burns",
   "metadata": {},
   "outputs": [],
   "source": [
    "import pandas as pd \n",
    "import numpy as np"
   ]
  },
  {
   "cell_type": "markdown",
   "id": "informational-vatican",
   "metadata": {},
   "source": [
    "# titulo\n",
    "$E = mc^2$ "
   ]
  },
  {
   "cell_type": "code",
   "execution_count": 14,
   "id": "norman-hello",
   "metadata": {},
   "outputs": [],
   "source": [
    "a =  1 "
   ]
  },
  {
   "cell_type": "code",
   "execution_count": 15,
   "id": "explicit-charter",
   "metadata": {},
   "outputs": [],
   "source": [
    "nombres =  [\"flor\",\"memo\",\"lua\",\"gwen\",\"koba\"]"
   ]
  },
  {
   "cell_type": "code",
   "execution_count": 30,
   "id": "plastic-shift",
   "metadata": {},
   "outputs": [
    {
     "name": "stdout",
     "output_type": "stream",
     "text": [
      "flor\n",
      "memo\n",
      "lua\n",
      "gwen\n",
      "koba\n"
     ]
    }
   ],
   "source": [
    "for nombre in nombres:\n",
    "    print(nombre)\n",
    "#     if nombre == \"flor\":\n",
    "#     print(\"hola flor\")"
   ]
  },
  {
   "cell_type": "code",
   "execution_count": 31,
   "id": "therapeutic-running",
   "metadata": {},
   "outputs": [
    {
     "name": "stdout",
     "output_type": "stream",
     "text": [
      "/Users/gbv/20mlDePython/notebooks\r\n"
     ]
    }
   ],
   "source": [
    "!pwd"
   ]
  },
  {
   "cell_type": "code",
   "execution_count": 32,
   "id": "threaded-popularity",
   "metadata": {},
   "outputs": [
    {
     "name": "stdout",
     "output_type": "stream",
     "text": [
      "consejos_trucos.ipynb           itera_listas.ipynb\r\n",
      "extraer_nombres_archivo.ipynb   seleccionar_fechas.ipynb\r\n",
      "figura_doble_eje_leyendas.ipynb\r\n"
     ]
    }
   ],
   "source": [
    "!ls"
   ]
  },
  {
   "cell_type": "code",
   "execution_count": 35,
   "id": "intelligent-consequence",
   "metadata": {},
   "outputs": [
    {
     "name": "stdout",
     "output_type": "stream",
     "text": [
      "LICENSE   README.md \u001b[1m\u001b[36mdat\u001b[m\u001b[m       \u001b[1m\u001b[36mimg\u001b[m\u001b[m       \u001b[1m\u001b[36mnotebooks\u001b[m\u001b[m \u001b[1m\u001b[36mscripts\u001b[m\u001b[m\r\n"
     ]
    }
   ],
   "source": [
    "!ls  ../"
   ]
  },
  {
   "cell_type": "code",
   "execution_count": 36,
   "id": "sporting-provincial",
   "metadata": {},
   "outputs": [
    {
     "name": "stdout",
     "output_type": "stream",
     "text": [
      "datos_ruoa_esolmet.csv nombres_raros.csv\r\n"
     ]
    }
   ],
   "source": [
    "!ls ../dat/"
   ]
  },
  {
   "cell_type": "code",
   "execution_count": 37,
   "id": "wired-english",
   "metadata": {},
   "outputs": [
    {
     "name": "stdout",
     "output_type": "stream",
     "text": [
      "../dat/nombres_raros.csv: application/csv; charset=iso-8859-1\r\n"
     ]
    }
   ],
   "source": [
    "!file -I ../dat/nombres_raros.csv"
   ]
  },
  {
   "cell_type": "code",
   "execution_count": 38,
   "id": "green-graphics",
   "metadata": {},
   "outputs": [
    {
     "data": {
      "text/plain": [
       "3"
      ]
     },
     "execution_count": 38,
     "metadata": {},
     "output_type": "execute_result"
    }
   ],
   "source": [
    "sum([1,2])"
   ]
  },
  {
   "cell_type": "code",
   "execution_count": 39,
   "id": "stone-fluid",
   "metadata": {},
   "outputs": [],
   "source": [
    "sum = \"algo\""
   ]
  },
  {
   "cell_type": "code",
   "execution_count": 40,
   "id": "impaired-pottery",
   "metadata": {},
   "outputs": [
    {
     "ename": "TypeError",
     "evalue": "'str' object is not callable",
     "output_type": "error",
     "traceback": [
      "\u001b[0;31m---------------------------------------------------------------------------\u001b[0m",
      "\u001b[0;31mTypeError\u001b[0m                                 Traceback (most recent call last)",
      "\u001b[0;32m<ipython-input-40-e1a7d3cd06f8>\u001b[0m in \u001b[0;36m<module>\u001b[0;34m\u001b[0m\n\u001b[0;32m----> 1\u001b[0;31m \u001b[0msum\u001b[0m\u001b[0;34m(\u001b[0m\u001b[0;34m[\u001b[0m\u001b[0;36m1\u001b[0m\u001b[0;34m,\u001b[0m\u001b[0;36m2\u001b[0m\u001b[0;34m]\u001b[0m\u001b[0;34m)\u001b[0m\u001b[0;34m\u001b[0m\u001b[0;34m\u001b[0m\u001b[0m\n\u001b[0m",
      "\u001b[0;31mTypeError\u001b[0m: 'str' object is not callable"
     ]
    }
   ],
   "source": [
    "sum([1,2])"
   ]
  },
  {
   "cell_type": "code",
   "execution_count": 41,
   "id": "geological-appearance",
   "metadata": {},
   "outputs": [
    {
     "data": {
      "text/plain": [
       "'algo'"
      ]
     },
     "execution_count": 41,
     "metadata": {},
     "output_type": "execute_result"
    }
   ],
   "source": [
    "sum"
   ]
  },
  {
   "cell_type": "code",
   "execution_count": 44,
   "id": "spare-gothic",
   "metadata": {},
   "outputs": [
    {
     "name": "stdout",
     "output_type": "stream",
     "text": [
      "code.py hola.py\r\n"
     ]
    }
   ],
   "source": [
    "!ls ../scripts/"
   ]
  },
  {
   "cell_type": "code",
   "execution_count": 45,
   "id": "appreciated-legend",
   "metadata": {},
   "outputs": [
    {
     "name": "stdout",
     "output_type": "stream",
     "text": [
      "Hola mundo\n",
      "3\n"
     ]
    }
   ],
   "source": [
    "%run ../scripts/hola.py"
   ]
  },
  {
   "cell_type": "code",
   "execution_count": 47,
   "id": "consecutive-monroe",
   "metadata": {},
   "outputs": [
    {
     "name": "stdout",
     "output_type": "stream",
     "text": [
      "Hola mundo\n",
      "3\n"
     ]
    }
   ],
   "source": [
    "# %load ../scripts/hola.py\n",
    "a = 1\n",
    "b = 2\n",
    "\n",
    "print(\"Hola mundo\")\n",
    "\n",
    "print(a+b)"
   ]
  },
  {
   "cell_type": "code",
   "execution_count": null,
   "id": "armed-stone",
   "metadata": {},
   "outputs": [],
   "source": [
    "np.genfromtxt(\"../dat/nombres_raros.csv\")"
   ]
  }
 ],
 "metadata": {
  "kernelspec": {
   "display_name": "Python 3",
   "language": "python",
   "name": "python3"
  },
  "language_info": {
   "codemirror_mode": {
    "name": "ipython",
    "version": 3
   },
   "file_extension": ".py",
   "mimetype": "text/x-python",
   "name": "python",
   "nbconvert_exporter": "python",
   "pygments_lexer": "ipython3",
   "version": "3.9.1"
  }
 },
 "nbformat": 4,
 "nbformat_minor": 5
}
