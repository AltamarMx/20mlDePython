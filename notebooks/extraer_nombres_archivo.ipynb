{
 "cells": [
  {
   "cell_type": "code",
   "execution_count": 17,
   "id": "legitimate-composite",
   "metadata": {},
   "outputs": [],
   "source": [
    "import numpy as np\n",
    "import re as re"
   ]
  },
  {
   "cell_type": "code",
   "execution_count": 18,
   "id": "dental-heart",
   "metadata": {},
   "outputs": [
    {
     "name": "stdout",
     "output_type": "stream",
     "text": [
      "../dat/nombres_raros.csv: application/csv; charset=iso-8859-1\r\n"
     ]
    }
   ],
   "source": [
    "!file -I ../dat/nombres_raros.csv"
   ]
  },
  {
   "cell_type": "code",
   "execution_count": 29,
   "id": "conservative-boring",
   "metadata": {},
   "outputs": [],
   "source": [
    "archivo = \"../dat/nombres_raros.csv\"\n",
    "nombres = np.genfromtxt(archivo,skip_header=7,max_rows=1,\n",
    "                       encoding=\"iso-8859-1\",delimiter=\",\",\n",
    "                       dtype=\"U\")\n",
    "nombres = [re.sub(\"\\s*{.*}\",\"\",nombre) for nombre in nombres]\n",
    "nombres = [nombre.replace(\" \",\"\")  for nombre in nombres ]"
   ]
  },
  {
   "cell_type": "code",
   "execution_count": 30,
   "id": "several-yukon",
   "metadata": {},
   "outputs": [
    {
     "data": {
      "text/plain": [
       "['Time',\n",
       " 'TEMPERATURAUNO',\n",
       " 'TEMREGION_UNO',\n",
       " 'TEMREGION_DOS',\n",
       " 'TEMPREGION_SIS_1_DR_01',\n",
       " 'TEMPREGION_SIS_1_DR_02',\n",
       " 'TEMPREGION_SIS_1_DR_03',\n",
       " 'TEMPREGION_SIS_1_DR_03',\n",
       " 'COLUMNA',\n",
       " 'COLUMNA',\n",
       " 'COLUMNA',\n",
       " 'COLUMNA',\n",
       " 'COLUMNA',\n",
       " 'COLUMNA',\n",
       " 'COLUMNA',\n",
       " 'COLUMNA',\n",
       " 'COLUMNA',\n",
       " 'COLUMNA',\n",
       " 'COLUMNA',\n",
       " 'LUZ',\n",
       " 'LUZ',\n",
       " 'LUZ',\n",
       " 'LUZ',\n",
       " 'LUZ',\n",
       " 'LUZ',\n",
       " 'LUZ',\n",
       " 'COLUMNA',\n",
       " 'COLUMNA',\n",
       " 'LUCESAFUERA',\n",
       " 'LUCESAFUERA',\n",
       " 'LUCESAFUERA',\n",
       " 'LUCESAFUERA',\n",
       " 'LUCESAFUERA',\n",
       " 'LUCESAFUERA',\n",
       " 'LUCESAFUERA',\n",
       " 'LUCESAFUERA',\n",
       " 'LUCESAFUERA',\n",
       " 'LUCESAFUERA',\n",
       " 'LUCESAFUERA',\n",
       " 'LUCESAFUERA',\n",
       " 'LUCESAFUERA',\n",
       " 'LUCESAFUERA',\n",
       " 'LUCESAFUERA',\n",
       " 'LUCESAFUERA',\n",
       " 'LUCESAFUERA',\n",
       " 'LUCESAFUERA',\n",
       " 'LUCESAFUERA',\n",
       " 'LUCESAFUERA',\n",
       " 'LUCESAFUERA',\n",
       " 'LUCESAFUERA',\n",
       " 'LUCESAFUERA',\n",
       " 'LUCESAFUERA',\n",
       " 'LUCESAFUERA',\n",
       " 'LUCESAFUERA',\n",
       " 'LUCESAFUERA',\n",
       " 'LUCESAFUERA']"
      ]
     },
     "execution_count": 30,
     "metadata": {},
     "output_type": "execute_result"
    }
   ],
   "source": [
    "nombres"
   ]
  },
  {
   "cell_type": "code",
   "execution_count": 23,
   "id": "large-mozambique",
   "metadata": {},
   "outputs": [
    {
     "data": {
      "text/plain": [
       "['Time',\n",
       " 'TEMPERATURAUNO',\n",
       " 'TEMREGION_UNO',\n",
       " 'TEMREGION_DOS',\n",
       " 'TEMPREGION_SIS_1_DR_01',\n",
       " 'TEMPREGION_SIS_1_DR_02',\n",
       " 'TEMPREGION_SIS_1_DR_03',\n",
       " 'TEMPREGION_SIS_1_DR_03',\n",
       " 'COLUMNA',\n",
       " 'COLUMNA',\n",
       " 'COLUMNA',\n",
       " 'COLUMNA',\n",
       " 'COLUMNA',\n",
       " 'COLUMNA',\n",
       " 'COLUMNA',\n",
       " 'COLUMNA',\n",
       " 'COLUMNA',\n",
       " 'COLUMNA',\n",
       " 'COLUMNA',\n",
       " 'LUZ',\n",
       " 'LUZ',\n",
       " 'LUZ',\n",
       " 'LUZ',\n",
       " 'LUZ',\n",
       " 'LUZ',\n",
       " 'LUZ',\n",
       " 'COLUMNA',\n",
       " 'COLUMNA',\n",
       " 'LUCES AFUERA',\n",
       " 'LUCES AFUERA',\n",
       " 'LUCES AFUERA',\n",
       " 'LUCES AFUERA',\n",
       " 'LUCES AFUERA',\n",
       " 'LUCES AFUERA',\n",
       " 'LUCES AFUERA',\n",
       " 'LUCES AFUERA',\n",
       " 'LUCES AFUERA',\n",
       " 'LUCES AFUERA',\n",
       " 'LUCES AFUERA',\n",
       " 'LUCES AFUERA',\n",
       " 'LUCES AFUERA',\n",
       " 'LUCES AFUERA',\n",
       " 'LUCES AFUERA',\n",
       " 'LUCES AFUERA',\n",
       " 'LUCES AFUERA',\n",
       " 'LUCES AFUERA',\n",
       " 'LUCES AFUERA',\n",
       " 'LUCES AFUERA',\n",
       " 'LUCES AFUERA',\n",
       " 'LUCES AFUERA',\n",
       " 'LUCES AFUERA',\n",
       " 'LUCES AFUERA',\n",
       " 'LUCES AFUERA',\n",
       " 'LUCES AFUERA',\n",
       " 'LUCES AFUERA',\n",
       " 'LUCES AFUERA']"
      ]
     },
     "execution_count": 23,
     "metadata": {},
     "output_type": "execute_result"
    }
   ],
   "source": []
  },
  {
   "cell_type": "code",
   "execution_count": 28,
   "id": "continued-change",
   "metadata": {},
   "outputs": [
    {
     "data": {
      "text/plain": [
       "['Time',\n",
       " 'TEMPERATURAUNO',\n",
       " 'TEMREGION_UNO',\n",
       " 'TEMREGION_DOS',\n",
       " 'TEMPREGION_SIS_1_DR_01',\n",
       " 'TEMPREGION_SIS_1_DR_02',\n",
       " 'TEMPREGION_SIS_1_DR_03',\n",
       " 'TEMPREGION_SIS_1_DR_03',\n",
       " 'COLUMNA',\n",
       " 'COLUMNA',\n",
       " 'COLUMNA',\n",
       " 'COLUMNA',\n",
       " 'COLUMNA',\n",
       " 'COLUMNA',\n",
       " 'COLUMNA',\n",
       " 'COLUMNA',\n",
       " 'COLUMNA',\n",
       " 'COLUMNA',\n",
       " 'COLUMNA',\n",
       " 'LUZ',\n",
       " 'LUZ',\n",
       " 'LUZ',\n",
       " 'LUZ',\n",
       " 'LUZ',\n",
       " 'LUZ',\n",
       " 'LUZ',\n",
       " 'COLUMNA',\n",
       " 'COLUMNA',\n",
       " 'LUCESAFUERA',\n",
       " 'LUCESAFUERA',\n",
       " 'LUCESAFUERA',\n",
       " 'LUCESAFUERA',\n",
       " 'LUCESAFUERA',\n",
       " 'LUCESAFUERA',\n",
       " 'LUCESAFUERA',\n",
       " 'LUCESAFUERA',\n",
       " 'LUCESAFUERA',\n",
       " 'LUCESAFUERA',\n",
       " 'LUCESAFUERA',\n",
       " 'LUCESAFUERA',\n",
       " 'LUCESAFUERA',\n",
       " 'LUCESAFUERA',\n",
       " 'LUCESAFUERA',\n",
       " 'LUCESAFUERA',\n",
       " 'LUCESAFUERA',\n",
       " 'LUCESAFUERA',\n",
       " 'LUCESAFUERA',\n",
       " 'LUCESAFUERA',\n",
       " 'LUCESAFUERA',\n",
       " 'LUCESAFUERA',\n",
       " 'LUCESAFUERA',\n",
       " 'LUCESAFUERA',\n",
       " 'LUCESAFUERA',\n",
       " 'LUCESAFUERA',\n",
       " 'LUCESAFUERA',\n",
       " 'LUCESAFUERA']"
      ]
     },
     "execution_count": 28,
     "metadata": {},
     "output_type": "execute_result"
    }
   ],
   "source": [
    "[nombre.replace(\" \",\"\")  for nombre in nombres ]"
   ]
  },
  {
   "cell_type": "code",
   "execution_count": null,
   "id": "attempted-composer",
   "metadata": {},
   "outputs": [],
   "source": []
  }
 ],
 "metadata": {
  "kernelspec": {
   "display_name": "Python 3",
   "language": "python",
   "name": "python3"
  },
  "language_info": {
   "codemirror_mode": {
    "name": "ipython",
    "version": 3
   },
   "file_extension": ".py",
   "mimetype": "text/x-python",
   "name": "python",
   "nbconvert_exporter": "python",
   "pygments_lexer": "ipython3",
   "version": "3.9.1"
  }
 },
 "nbformat": 4,
 "nbformat_minor": 5
}
