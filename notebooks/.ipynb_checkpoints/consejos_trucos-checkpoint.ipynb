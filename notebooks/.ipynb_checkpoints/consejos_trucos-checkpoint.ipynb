{
 "cells": [
  {
   "cell_type": "code",
   "execution_count": 25,
   "id": "regional-sentence",
   "metadata": {},
   "outputs": [],
   "source": [
    "# import pandas as pd\n",
    "# import numpy as np"
   ]
  },
  {
   "cell_type": "markdown",
   "id": "dependent-stocks",
   "metadata": {},
   "source": [
    "$ E = mc^2 $\n",
    "# Titulos"
   ]
  },
  {
   "cell_type": "code",
   "execution_count": 28,
   "id": "phantom-constant",
   "metadata": {},
   "outputs": [],
   "source": [
    "# estes es un comentario de una suma\n",
    "a = 1 \n",
    "b = 2 "
   ]
  },
  {
   "cell_type": "code",
   "execution_count": 36,
   "id": "acting-programmer",
   "metadata": {},
   "outputs": [
    {
     "name": "stdout",
     "output_type": "stream",
     "text": [
      "flor\n",
      "memo\n",
      "lua\n",
      "koba\n",
      "gwen\n",
      "petris\n"
     ]
    }
   ],
   "source": [
    "\n",
    "nombres = [\"flor\",\"memo\",\"lua\",\"koba\",\"gwen\",\"petris\"]\n",
    "\n",
    "for nombre in nombres:\n",
    "#     print(nombre)\n",
    "#     nombre.replace(\"e\",\"\")\n",
    "#     print(nombre)"
   ]
  },
  {
   "cell_type": "code",
   "execution_count": 37,
   "id": "owned-blend",
   "metadata": {},
   "outputs": [
    {
     "name": "stdout",
     "output_type": "stream",
     "text": [
      "consejos_trucos.ipynb           itera_listas.ipynb\r\n",
      "extraer_nombres_archivo.ipynb   seleccionar_fechas.ipynb\r\n",
      "figura_doble_eje_leyendas.ipynb\r\n"
     ]
    }
   ],
   "source": [
    "!ls"
   ]
  },
  {
   "cell_type": "code",
   "execution_count": 38,
   "id": "greenhouse-caution",
   "metadata": {},
   "outputs": [
    {
     "name": "stdout",
     "output_type": "stream",
     "text": [
      "/Users/gbv/20mlDePython/notebooks\r\n"
     ]
    }
   ],
   "source": [
    "!pwd"
   ]
  },
  {
   "cell_type": "code",
   "execution_count": 41,
   "id": "sporting-crazy",
   "metadata": {},
   "outputs": [
    {
     "name": "stdout",
     "output_type": "stream",
     "text": [
      "datos_ruoa_esolmet.csv nombres_raros.csv\r\n"
     ]
    }
   ],
   "source": [
    "!ls ../dat/"
   ]
  },
  {
   "cell_type": "code",
   "execution_count": 42,
   "id": "living-consent",
   "metadata": {},
   "outputs": [
    {
     "name": "stdout",
     "output_type": "stream",
     "text": [
      "../dat/nombres_raros.csv: application/csv; charset=iso-8859-1\r\n"
     ]
    }
   ],
   "source": [
    "!file -I ../dat/nombres_raros.csv"
   ]
  },
  {
   "cell_type": "code",
   "execution_count": 44,
   "id": "exact-blogger",
   "metadata": {},
   "outputs": [
    {
     "name": "stdout",
     "output_type": "stream",
     "text": [
      "total 32\r\n",
      " 0 drwxr-xr-x  10 gbv  staff   320 Feb 20 16:13 \u001b[1m\u001b[36m.\u001b[m\u001b[m\r\n",
      " 0 drwxr-xr-x+ 92 gbv  staff  2944 Feb 26 12:23 \u001b[1m\u001b[36m..\u001b[m\u001b[m\r\n",
      "16 -rw-r--r--@  1 gbv  staff  6148 Feb 20 16:13 .DS_Store\r\n",
      " 0 drwxr-xr-x  13 gbv  staff   416 Feb 26 12:23 \u001b[1m\u001b[36m.git\u001b[m\u001b[m\r\n",
      " 8 -rw-r--r--   1 gbv  staff  1084 Jan 22 15:00 LICENSE\r\n",
      " 8 -rw-r--r--   1 gbv  staff    59 Jan 22 15:00 README.md\r\n",
      " 0 drwxr-xr-x   4 gbv  staff   128 Feb 26 10:35 \u001b[1m\u001b[36mdat\u001b[m\u001b[m\r\n",
      " 0 drwxr-xr-x   4 gbv  staff   128 Jan 22 15:01 \u001b[1m\u001b[36mimg\u001b[m\u001b[m\r\n",
      " 0 drwxr-xr-x   8 gbv  staff   256 Feb 26 14:32 \u001b[1m\u001b[36mnotebooks\u001b[m\u001b[m\r\n",
      " 0 drwxr-xr-x   5 gbv  staff   160 Feb 26 13:32 \u001b[1m\u001b[36mscripts\u001b[m\u001b[m\r\n"
     ]
    }
   ],
   "source": [
    "!ls -lsa ../"
   ]
  },
  {
   "cell_type": "code",
   "execution_count": 46,
   "id": "derived-queue",
   "metadata": {},
   "outputs": [],
   "source": [
    "pd.read_csv()"
   ]
  },
  {
   "cell_type": "code",
   "execution_count": null,
   "id": "dirty-crime",
   "metadata": {},
   "outputs": [],
   "source": [
    "np"
   ]
  },
  {
   "cell_type": "code",
   "execution_count": null,
   "id": "classical-explorer",
   "metadata": {},
   "outputs": [],
   "source": []
  }
 ],
 "metadata": {
  "kernelspec": {
   "display_name": "Python 3",
   "language": "python",
   "name": "python3"
  },
  "language_info": {
   "codemirror_mode": {
    "name": "ipython",
    "version": 3
   },
   "file_extension": ".py",
   "mimetype": "text/x-python",
   "name": "python",
   "nbconvert_exporter": "python",
   "pygments_lexer": "ipython3",
   "version": "3.9.1"
  }
 },
 "nbformat": 4,
 "nbformat_minor": 5
}
